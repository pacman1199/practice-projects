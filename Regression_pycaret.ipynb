{
  "nbformat": 4,
  "nbformat_minor": 0,
  "metadata": {
    "colab": {
      "name": "Regression-pycaret.ipynb",
      "private_outputs": true,
      "provenance": [],
      "collapsed_sections": [],
      "authorship_tag": "ABX9TyPxONfJhlkLqCfOrXJVCtlU",
      "include_colab_link": true
    },
    "kernelspec": {
      "name": "python3",
      "display_name": "Python 3"
    },
    "language_info": {
      "name": "python"
    }
  },
  "cells": [
    {
      "cell_type": "markdown",
      "metadata": {
        "id": "view-in-github",
        "colab_type": "text"
      },
      "source": [
        "<a href=\"https://colab.research.google.com/github/pacman1199/practice-projects/blob/main/Regression_pycaret.ipynb\" target=\"_parent\"><img src=\"https://colab.research.google.com/assets/colab-badge.svg\" alt=\"Open In Colab\"/></a>"
      ]
    },
    {
      "cell_type": "markdown",
      "source": [
        "**Regression** using **PyCaret** "
      ],
      "metadata": {
        "id": "mUjgXN6OSjwE"
      }
    },
    {
      "cell_type": "code",
      "execution_count": null,
      "metadata": {
        "id": "b9Ka-_FIEOET"
      },
      "outputs": [],
      "source": [
        "pip install pycaret"
      ]
    },
    {
      "cell_type": "code",
      "source": [
        "from pycaret.datasets import get_data\n",
        "dataset = get_data('diamond')"
      ],
      "metadata": {
        "id": "1Z7omwJVI26q"
      },
      "execution_count": null,
      "outputs": []
    },
    {
      "cell_type": "code",
      "source": [
        "dataset.shape"
      ],
      "metadata": {
        "id": "AAjwuKKGJEQj"
      },
      "execution_count": null,
      "outputs": []
    },
    {
      "cell_type": "code",
      "source": [
        "data = dataset.sample(frac=0.9, random_state=786)\n",
        "data_unseen = dataset.drop(data.index)\n",
        "\n",
        "data.reset_index(drop=True, inplace=True)\n",
        "data_unseen.reset_index(drop=True, inplace=True)\n",
        "\n",
        "print('Data for Modeling:' + str(data.shape))\n",
        "print('Unseen data for predictions:' +\n",
        "      str(data_unseen.shape))"
      ],
      "metadata": {
        "id": "eotteDN6JLq2"
      },
      "execution_count": null,
      "outputs": []
    },
    {
      "cell_type": "code",
      "source": [
        "from pycaret.regression import *\n",
        "s = setup(data = data, target = 'Price', session_id=123)\n"
      ],
      "metadata": {
        "id": "TUqBLagfKL_7"
      },
      "execution_count": null,
      "outputs": []
    },
    {
      "cell_type": "code",
      "source": [
        "best = compare_models()"
      ],
      "metadata": {
        "id": "9twxo26pKhtI"
      },
      "execution_count": null,
      "outputs": []
    },
    {
      "cell_type": "code",
      "source": [
        "models"
      ],
      "metadata": {
        "id": "3wJzHs4OKnnP"
      },
      "execution_count": null,
      "outputs": []
    },
    {
      "cell_type": "code",
      "source": [
        "ada = create_model('ada')"
      ],
      "metadata": {
        "id": "_xz2jdawK5MJ"
      },
      "execution_count": null,
      "outputs": []
    },
    {
      "cell_type": "code",
      "source": [
        "print(ada)"
      ],
      "metadata": {
        "id": "k7dZcDoULDNs"
      },
      "execution_count": null,
      "outputs": []
    },
    {
      "cell_type": "code",
      "source": [
        "lightgbm = create_model('lightgbm')\n"
      ],
      "metadata": {
        "id": "i3Ugn1EiLO8W"
      },
      "execution_count": null,
      "outputs": []
    },
    {
      "cell_type": "code",
      "source": [
        "dt = create_model('dt')"
      ],
      "metadata": {
        "id": "t8OCFDP3LXPm"
      },
      "execution_count": null,
      "outputs": []
    },
    {
      "cell_type": "code",
      "source": [
        "tuned_ada = tune_model(ada)"
      ],
      "metadata": {
        "id": "foWBkyijLdrB"
      },
      "execution_count": null,
      "outputs": []
    },
    {
      "cell_type": "code",
      "source": [
        "print(tuned_ada)"
      ],
      "metadata": {
        "id": "oStoXpo5Lj9S"
      },
      "execution_count": null,
      "outputs": []
    },
    {
      "cell_type": "code",
      "source": [
        "import numpy as np\n",
        "lgbm_params = {'num_leaves': np.arange(10,200,10),\n",
        "               'max_depth' : [int(x) for x in\n",
        "                              np.linspace(10,110, num = 11)],\n",
        "               'learning rate': \n",
        "               np.arange(0.1,1,0.1)\n",
        "               }\n",
        "tuned_lightgbm = tune_model(lightgbm,\n",
        "                          custom_grid = lgbm_params)"
      ],
      "metadata": {
        "id": "fnTJq7t8Ln8f"
      },
      "execution_count": null,
      "outputs": []
    },
    {
      "cell_type": "code",
      "source": [
        "print(tuned_lightgbm)"
      ],
      "metadata": {
        "id": "Us2640AWMyYO"
      },
      "execution_count": null,
      "outputs": []
    },
    {
      "cell_type": "code",
      "source": [
        "tuned_dt = tune_model(dt)\n"
      ],
      "metadata": {
        "id": "NIl-rcKvM3Q5"
      },
      "execution_count": null,
      "outputs": []
    },
    {
      "cell_type": "code",
      "source": [
        "plot_model(tuned_lightgbm)"
      ],
      "metadata": {
        "id": "XbE7CsF6NAa8"
      },
      "execution_count": null,
      "outputs": []
    },
    {
      "cell_type": "code",
      "source": [
        "plot_model(tuned_lightgbm,\n",
        "           plot ='error')"
      ],
      "metadata": {
        "id": "em5OoEF5NFcW"
      },
      "execution_count": null,
      "outputs": []
    },
    {
      "cell_type": "code",
      "source": [
        "plot_model(tuned_lightgbm,\n",
        "           plot='feature')"
      ],
      "metadata": {
        "id": "a30PQ-maNSzK"
      },
      "execution_count": null,
      "outputs": []
    },
    {
      "cell_type": "code",
      "source": [
        "evaluate_model(tuned_lightgbm)"
      ],
      "metadata": {
        "id": "OlKTNs39Nh1I"
      },
      "execution_count": null,
      "outputs": []
    },
    {
      "cell_type": "code",
      "source": [
        "predict_model(tuned_lightgbm)"
      ],
      "metadata": {
        "id": "9RXkXQeXN2Zv"
      },
      "execution_count": null,
      "outputs": []
    },
    {
      "cell_type": "code",
      "source": [
        "final_lightgbm = finalize_model(tuned_lightgbm)\n",
        "print(final_lightgbm)\n"
      ],
      "metadata": {
        "id": "MkZNnITzOQYt"
      },
      "execution_count": null,
      "outputs": []
    },
    {
      "cell_type": "code",
      "source": [
        "predict_model(final_lightgbm)"
      ],
      "metadata": {
        "id": "pHWwYw04O4HU"
      },
      "execution_count": null,
      "outputs": []
    },
    {
      "cell_type": "code",
      "source": [
        "unseen_predictions = predict_model(final_lightgbm, data= data_unseen)\n",
        "unseen_predictions.head()"
      ],
      "metadata": {
        "id": "nVRly7n7PCaz"
      },
      "execution_count": null,
      "outputs": []
    },
    {
      "cell_type": "code",
      "source": [
        "from pycaret.utils import check_metric\n",
        "check_metric(unseen_predictions.Price, unseen_predictions.Label,'R2')\n"
      ],
      "metadata": {
        "id": "n5EAqTAQPhQK"
      },
      "execution_count": null,
      "outputs": []
    },
    {
      "cell_type": "code",
      "source": [
        "save_model(final_lightgbm,'Final LGBM 13 Dec 2021')\n",
        "\n"
      ],
      "metadata": {
        "id": "OZ_Ck7mWQF60"
      },
      "execution_count": null,
      "outputs": []
    },
    {
      "cell_type": "code",
      "source": [
        "saved_final_lightgbm = load_model('Final LGBM 13 Dec 2021')"
      ],
      "metadata": {
        "id": "sRdML5JcQjrQ"
      },
      "execution_count": null,
      "outputs": []
    },
    {
      "cell_type": "code",
      "source": [
        "new_prediction = predict_model(saved_final_lightgbm, data=data_unseen)\n",
        "\n",
        "new_prediction.head()"
      ],
      "metadata": {
        "id": "Pi9-3ThwQ1Ht"
      },
      "execution_count": null,
      "outputs": []
    },
    {
      "cell_type": "code",
      "source": [
        "from pycaret.utils import check_metric\n",
        "check_metric(new_prediction.Price , new_prediction.Label, 'R2')"
      ],
      "metadata": {
        "id": "mdR4zXrYRJIm"
      },
      "execution_count": null,
      "outputs": []
    }
  ]
}